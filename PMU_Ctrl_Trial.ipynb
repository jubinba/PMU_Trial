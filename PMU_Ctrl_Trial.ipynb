{
 "cells": [
  {
   "cell_type": "code",
   "execution_count": null,
   "id": "a9a5bf2e",
   "metadata": {},
   "outputs": [],
   "source": [
    "from . import Bit_Coder_Trial\n",
    "from . import communicator\n",
    "from. import pmu_def\n",
    "import pandas as pd\n",
    "from time import sleep\n",
    "\n",
    "\n",
    "class pmu():\n",
    "    def __init__(self, pmu_class, channel) -> None: # None Indicates that this method does not return anything\n",
    "        self.c = communicator.comunicator(False) # Set verbose false for communicator\n",
    "        self._parent = pmu_class\n",
    "        self.channel = 1<< channel # As a result of applying 1<< channel, self.channel = 1,2,3,4\n",
    "        \n",
    "        \n",
    "    @property\n",
    "    def channel(self):\n",
    "        return self.channel # accessing\n",
    "    \n",
    "    @property\n",
    "    \n",
    "        "
   ]
  },
  {
   "cell_type": "code",
   "execution_count": null,
   "id": "748bfa7d",
   "metadata": {},
   "outputs": [],
   "source": []
  }
 ],
 "metadata": {
  "kernelspec": {
   "display_name": "Python 3",
   "language": "python",
   "name": "python3"
  },
  "language_info": {
   "codemirror_mode": {
    "name": "ipython",
    "version": 3
   },
   "file_extension": ".py",
   "mimetype": "text/x-python",
   "name": "python",
   "nbconvert_exporter": "python",
   "pygments_lexer": "ipython3",
   "version": "3.13.1"
  }
 },
 "nbformat": 4,
 "nbformat_minor": 5
}
