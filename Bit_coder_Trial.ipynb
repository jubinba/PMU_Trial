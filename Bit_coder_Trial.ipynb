{
 "cells": [
  {
   "cell_type": "code",
   "execution_count": null,
   "id": "ca4ccb1e",
   "metadata": {},
   "outputs": [],
   "source": [
    "# Bit coder consists of two functions: decode and modify. Decode and modify are used for bit manipulation of a integer value based on a \"coding dictionary\".\n",
    "\n",
    "def decode(value: int, coding: dict): #integer value to be decoded, and a coding dictionary\n",
    "    \n",
    "    \n",
    "    \n",
    "    decode_data = dict()\n",
    "    for k, pos in coding.items(): #for loop iterating over each items in the coding\n",
    "        mask = (2 ** pos[1]) - 1 # creates a bit mask for pos[1], length bits\n",
    "        decode_data[k] = (value>>pos[0]) & mask\n",
    "        \n",
    "    return decode_data\n",
    "        \n",
    "    \n",
    "def modify(value: int, name: str, reg_val: int, coding: dict):\n",
    "    pos = coding[name] #name = \"a1\",coding[name]-> coding[\"a1\"]-> (7,1); Pos[0]=7,pos[1]=1, here we are not using pos in coding.items() because in decode our aim was to decode all the codings, but here we have to modify only necessay one coding, hence this approach\n",
    "    mask = (2** pos[1]) - 1\n",
    "    \n"
   ]
  },
  {
   "cell_type": "code",
   "execution_count": null,
   "id": "fbd75907",
   "metadata": {},
   "outputs": [
    {
     "name": "stdout",
     "output_type": "stream",
     "text": [
      "{'err': 1, 'warn': 0, 'mode': 3, 'val': 5}\n"
     ]
    }
   ],
   "source": [
    "def decode(value: int, coding: dict): #integer value to be decoded, and a coding dictionary\n",
    "    \n",
    "    decode_data = dict()\n",
    "    for k, pos in coding.items(): #for loop iterating over each items in the coding\n",
    "        mask = (2 ** pos[1]) - 1 # creates a bit mask for pos[1], length bits\n",
    "        decode_data[k] = (value>> pos[0]) & mask  # used a common bit mask method (2**n) - 1\n",
    "        \n",
    "    return decode_data\n",
    "\n",
    "register_value = 0xB5\n",
    "coding = {\n",
    "    \"err\": (7,1),\n",
    "    \"warn\": (6,1),\n",
    "    \"mode\":(4,2),\n",
    "    \"val\": (0,4)\n",
    "}\n",
    "\n",
    "result = decode(register_value, coding)\n",
    "print(result)\n"
   ]
  },
  {
   "cell_type": "code",
   "execution_count": null,
   "id": "5bb6d96b",
   "metadata": {},
   "outputs": [],
   "source": []
  }
 ],
 "metadata": {
  "kernelspec": {
   "display_name": "Python 3",
   "language": "python",
   "name": "python3"
  },
  "language_info": {
   "codemirror_mode": {
    "name": "ipython",
    "version": 3
   },
   "file_extension": ".py",
   "mimetype": "text/x-python",
   "name": "python",
   "nbconvert_exporter": "python",
   "pygments_lexer": "ipython3",
   "version": "3.13.1"
  }
 },
 "nbformat": 4,
 "nbformat_minor": 5
}
