{
 "cells": [
  {
   "cell_type": "code",
   "execution_count": null,
   "id": "ca4ccb1e",
   "metadata": {},
   "outputs": [],
   "source": [
    "# Bit coder consists of two functions: decode and modify. Decode and modify are used for bit manipulation of a integer value based on a \"coding dictionary\".\n",
    "\n",
    "def decode(value: int, coding: dict): #integer value to be decoded, and a coding dictionary\n",
    "    \n",
    "    for k, pos in coding.items(): #for loop iterating over each items in the coding\n",
    "        mask = (2 ** pos[1]) - 1 # creates a bit mask for pos[1], length bits\n",
    "\n"
   ]
  },
  {
   "cell_type": "code",
   "execution_count": 4,
   "id": "fbd75907",
   "metadata": {},
   "outputs": [
    {
     "name": "stdout",
     "output_type": "stream",
     "text": [
      "{'err': 1, 'warn': 0, 'mode': 3, 'val': 5}\n"
     ]
    }
   ],
   "source": [
    "def decode(value: int, coding: dict): #integer value to be decoded, and a coding dictionary\n",
    "    \n",
    "    decode_data = dict()\n",
    "    for k, pos in coding.items(): #for loop iterating over each items in the coding\n",
    "        mask = (2 ** pos[1]) - 1 # creates a bit mask for pos[1], length bits\n",
    "        decode_data[k] = (value>> pos[0]) & mask\n",
    "        \n",
    "    return decode_data\n",
    "\n",
    "register_value = 0xB5\n",
    "coding = {\n",
    "    \"err\": (7,1),\n",
    "    \"warn\": (6,1),\n",
    "    \"mode\":(4,2),\n",
    "    \"val\": (0,4)\n",
    "}\n",
    "\n",
    "result = decode(register_value, coding)\n",
    "print(result)\n"
   ]
  },
  {
   "cell_type": "code",
   "execution_count": null,
   "id": "5bb6d96b",
   "metadata": {},
   "outputs": [],
   "source": []
  }
 ],
 "metadata": {
  "kernelspec": {
   "display_name": "Python 3",
   "language": "python",
   "name": "python3"
  },
  "language_info": {
   "codemirror_mode": {
    "name": "ipython",
    "version": 3
   },
   "file_extension": ".py",
   "mimetype": "text/x-python",
   "name": "python",
   "nbconvert_exporter": "python",
   "pygments_lexer": "ipython3",
   "version": "3.13.1"
  }
 },
 "nbformat": 4,
 "nbformat_minor": 5
}
